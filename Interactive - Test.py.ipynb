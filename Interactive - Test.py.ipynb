{
 "cells": [
  {
   "cell_type": "markdown",
   "metadata": {},
   "source": [
    "Connected to Python 3.12.8"
   ]
  },
  {
   "cell_type": "code",
   "execution_count": null,
   "id": "255895de-2c52-4557-91c5-28daa2673512",
   "metadata": {},
   "outputs": [],
   "source": [
    "menu = [\"Dogs\", \"Cats\", \"Other\"]\n",
    "Dogs = [\"Corgi\", \"Huskey\", \"WolfDog\", \"GermanShepard\"]\n",
    "Cats = [\"Tabby\", \"Manecoon\", \"Siamese\", \"BobCat\"]\n",
    "Other = [\"Fish\", \"Lizard\", \"Snake\"]\n",
    "\n",
    "menu_select = input(f\"Select an {menu} animal\")\n",
    "\n",
    "if menu_select == Dogs:\n",
    "    print(\"You Wish to adopt a dog\")\n",
    "    Dog_Selection = input(f\"Select a {Dogs}model Dog you want!\")\n",
    "    print(f\"you have chosen {Dog_Selection}!\")\n",
    "    \n",
    "elif menu_select == Cats:\n",
    "    print(\"You Wish to adopt a cat\")\n",
    "    Cat_Selection = input(f\"Select a {Cats} model Cat you want!\")\n",
    "    print(f\"You have chosen {Cat_Selection}!\")\n",
    "\n",
    "else:\n",
    "    print(\"You wish to adopt a different type of animal!\")\n",
    "    Other_selection = input(f\"Select a type of {Other} Animal You want\")\n",
    "    print(f\"you have chosen {Other_selection}!\")"
   ]
  }
 ],
 "metadata": {
  "kernelspec": {
   "display_name": "Python 3",
   "language": "python",
   "name": "python3"
  },
  "language_info": {
   "name": "python",
   "version": "3.12.8"
  }
 },
 "nbformat": 4,
 "nbformat_minor": 2
}
